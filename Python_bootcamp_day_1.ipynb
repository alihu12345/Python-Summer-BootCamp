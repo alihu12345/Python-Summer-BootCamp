{
  "nbformat": 4,
  "nbformat_minor": 0,
  "metadata": {
    "colab": {
      "name": "Python bootcamp day 1.ipynb",
      "provenance": [],
      "authorship_tag": "ABX9TyPg5/UC+6Dkylh70C2qtmW/",
      "include_colab_link": true
    },
    "kernelspec": {
      "name": "python3",
      "display_name": "Python 3"
    },
    "language_info": {
      "name": "python"
    }
  },
  "cells": [
    {
      "cell_type": "markdown",
      "metadata": {
        "id": "view-in-github",
        "colab_type": "text"
      },
      "source": [
        "<a href=\"https://colab.research.google.com/github/alihu12345/Python-Summer-BootCamp/blob/main/Python_bootcamp_day_1.ipynb\" target=\"_parent\"><img src=\"https://colab.research.google.com/assets/colab-badge.svg\" alt=\"Open In Colab\"/></a>"
      ]
    },
    {
      "cell_type": "markdown",
      "metadata": {
        "id": "mi3kVyrMfuqo"
      },
      "source": [
        "#Data science Boot Camp\n",
        "###Day 1\n",
        "#####introduction\n"
      ]
    },
    {
      "cell_type": "code",
      "metadata": {
        "colab": {
          "base_uri": "https://localhost:8080/"
        },
        "id": "6HvTVSfUdtV6",
        "outputId": "bb7a74aa-93fa-45f4-e3fe-fc1515681cf6"
      },
      "source": [
        "print(\"Hello World\")"
      ],
      "execution_count": null,
      "outputs": [
        {
          "output_type": "stream",
          "name": "stdout",
          "text": [
            "Hello World\n"
          ]
        }
      ]
    },
    {
      "cell_type": "code",
      "metadata": {
        "colab": {
          "base_uri": "https://localhost:8080/"
        },
        "id": "MZleet3_fIBG",
        "outputId": "4c20bdaa-e260-400f-d78e-ec0b6bf1144d"
      },
      "source": [
        "print (\"data science\")\n"
      ],
      "execution_count": null,
      "outputs": [
        {
          "output_type": "stream",
          "name": "stdout",
          "text": [
            "data science\n"
          ]
        }
      ]
    },
    {
      "cell_type": "code",
      "metadata": {
        "colab": {
          "base_uri": "https://localhost:8080/"
        },
        "id": "nsJCiGe7m60K",
        "outputId": "7054953d-bb0d-4266-87d9-4a7a629334fe"
      },
      "source": [
        "if 10 > 8:\n",
        "  print(\"Ten is greater than eight!\")\n",
        "  "
      ],
      "execution_count": 5,
      "outputs": [
        {
          "output_type": "stream",
          "name": "stdout",
          "text": [
            "Ten is greater than eight!\n"
          ]
        }
      ]
    },
    {
      "cell_type": "code",
      "metadata": {
        "colab": {
          "base_uri": "https://localhost:8080/"
        },
        "id": "3Q-_bLujnHB6",
        "outputId": "c0707707-ea03-4cf8-86b5-f6fee7dede33"
      },
      "source": [
        "a=10\n",
        "b=20\n",
        "c=a+b\n",
        "print(c)"
      ],
      "execution_count": 6,
      "outputs": [
        {
          "output_type": "stream",
          "name": "stdout",
          "text": [
            "30\n"
          ]
        }
      ]
    },
    {
      "cell_type": "code",
      "metadata": {
        "colab": {
          "base_uri": "https://localhost:8080/"
        },
        "id": "TGaBbVejnc30",
        "outputId": "be7c7e25-7ce8-4962-81a9-d9c5201761c7"
      },
      "source": [
        "a=10\n",
        "b=20\n",
        "d=b-a\n",
        "print(d)"
      ],
      "execution_count": 7,
      "outputs": [
        {
          "output_type": "stream",
          "name": "stdout",
          "text": [
            "10\n"
          ]
        }
      ]
    },
    {
      "cell_type": "code",
      "metadata": {
        "colab": {
          "base_uri": "https://localhost:8080/"
        },
        "id": "e1C_cgtBnxG6",
        "outputId": "2165460e-0c24-4e72-cefb-6e2df8007797"
      },
      "source": [
        "c=b/a\n",
        "print(c)"
      ],
      "execution_count": 8,
      "outputs": [
        {
          "output_type": "stream",
          "name": "stdout",
          "text": [
            "2.0\n"
          ]
        }
      ]
    },
    {
      "cell_type": "code",
      "metadata": {
        "colab": {
          "base_uri": "https://localhost:8080/"
        },
        "id": "Gq2ya9OYoEPE",
        "outputId": "17dcb038-20a9-4a12-d03f-c0fc0205d082"
      },
      "source": [
        "c=a*b\n",
        "print(c)"
      ],
      "execution_count": 9,
      "outputs": [
        {
          "output_type": "stream",
          "name": "stdout",
          "text": [
            "200\n"
          ]
        }
      ]
    }
  ]
}